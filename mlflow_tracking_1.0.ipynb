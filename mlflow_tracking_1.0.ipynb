{
 "cells": [
  {
   "cell_type": "code",
   "execution_count": 3,
   "id": "004f511e-4970-4899-a5d8-7ebedef51c2b",
   "metadata": {},
   "outputs": [],
   "source": [
    "import mlflow\n",
    "from warnings import filterwarnings\n",
    "filterwarnings('ignore')"
   ]
  },
  {
   "cell_type": "markdown",
   "id": "912924dc-5503-42bb-9eca-8ecac4221fdb",
   "metadata": {},
   "source": [
    "#### Log Parameters"
   ]
  },
  {
   "cell_type": "raw",
   "id": "04614e0a-4785-43af-b3dc-88483badea24",
   "metadata": {},
   "source": [
    "Parameters are the configuration settings for your experiments, like model type, hyperparameters, and preprocessing steps. For instance"
   ]
  },
  {
   "cell_type": "code",
   "execution_count": 4,
   "id": "0501d001-58d6-408f-89a9-cd27d367e5f8",
   "metadata": {},
   "outputs": [
    {
     "data": {
      "text/plain": [
       "5"
      ]
     },
     "execution_count": 4,
     "metadata": {},
     "output_type": "execute_result"
    }
   ],
   "source": [
    "mlflow.log_param(\"model_type\", \"RandomForest\")\n",
    "mlflow.log_param(\"n_estimators\", 100)\n",
    "mlflow.log_param(\"max_depth\", 5)"
   ]
  },
  {
   "cell_type": "markdown",
   "id": "34632b0f-9acc-467d-a1c2-263e2587aeab",
   "metadata": {},
   "source": [
    "### Log Metrics"
   ]
  },
  {
   "cell_type": "raw",
   "id": "e965f451-4a08-415d-89ca-f95fe8f17c09",
   "metadata": {},
   "source": [
    "Metrics are the performance measures you track during and after training, such as accuracy, precision, recall, or RMSE (Root Mean Squared Error) for regression tasks"
   ]
  },
  {
   "cell_type": "code",
   "execution_count": 6,
   "id": "a270939d-3d01-4e4b-82e8-47993983e2b5",
   "metadata": {},
   "outputs": [],
   "source": [
    "rmse=10.5\n",
    "r2_score=10"
   ]
  },
  {
   "cell_type": "code",
   "execution_count": 7,
   "id": "a8ab447b-5789-4f67-92e4-2b06da1578df",
   "metadata": {},
   "outputs": [],
   "source": [
    "mlflow.log_metric(\"rmse\", rmse)\n",
    "mlflow.log_metric(\"r2\", r2_score)\n"
   ]
  },
  {
   "cell_type": "markdown",
   "id": "5b7afb12-1d51-4739-901a-d52a4d51047e",
   "metadata": {},
   "source": [
    "### log Artifacts"
   ]
  },
  {
   "cell_type": "raw",
   "id": "5422244e-3f47-4214-b9b5-42ede5a5bf4b",
   "metadata": {},
   "source": [
    "Artifacts are the output files like trained model files, plots, or any other files you want to save"
   ]
  },
  {
   "cell_type": "markdown",
   "id": "187a17f2-86ec-4c6e-a3d2-9262002d4cba",
   "metadata": {},
   "source": [
    "### Log Source Code"
   ]
  },
  {
   "cell_type": "raw",
   "id": "9ab78f1b-b1a7-4a4b-81fc-77bb5281c246",
   "metadata": {},
   "source": [
    "You can also log the source code used for the experiment to ensure reproducibility"
   ]
  },
  {
   "cell_type": "code",
   "execution_count": 11,
   "id": "ece76541-f69b-47bb-b181-e839b4c7c3ca",
   "metadata": {},
   "outputs": [],
   "source": [
    "#mlflow.log_artifact(\"train.py\")"
   ]
  },
  {
   "cell_type": "markdown",
   "id": "5fc52c4d-50e3-41a5-88f4-db79e2540b76",
   "metadata": {},
   "source": [
    "### Benefits of Mlflow Tracking"
   ]
  },
  {
   "cell_type": "raw",
   "id": "59e4d019-73ee-4842-a7e2-c1ce2a88bfe8",
   "metadata": {},
   "source": [
    "1.Reproducibility\n",
    "2.Experiment Comparison\n",
    "3.Collaboration\n",
    "4.Deployment"
   ]
  },
  {
   "cell_type": "code",
   "execution_count": null,
   "id": "ffb7d4df-4b4d-4db8-ae4a-1cce55305cb5",
   "metadata": {},
   "outputs": [],
   "source": []
  }
 ],
 "metadata": {
  "kernelspec": {
   "display_name": "Python 3 (ipykernel)",
   "language": "python",
   "name": "python3"
  },
  "language_info": {
   "codemirror_mode": {
    "name": "ipython",
    "version": 3
   },
   "file_extension": ".py",
   "mimetype": "text/x-python",
   "name": "python",
   "nbconvert_exporter": "python",
   "pygments_lexer": "ipython3",
   "version": "3.11.9"
  }
 },
 "nbformat": 4,
 "nbformat_minor": 5
}
